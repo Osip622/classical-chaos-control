{
 "cells": [
  {
   "cell_type": "code",
   "execution_count": 10,
   "metadata": {},
   "outputs": [],
   "source": [
    "import seaborn as sns\n",
    "import numpy as np\n",
    "from scipy.integrate import odeint\n",
    "'''import scipy.integrate as integrate'''\n",
    "import matplotlib.pyplot as plt\n",
    "import matplotlib\n",
    "import math\n",
    "import statistics\n",
    "import sys\n",
    "import operator\n",
    "import collections\n",
    "import time\n",
    "import pandas as pd\n",
    "from scipy.optimize import minimize\n",
    "from scipy.optimize import Bounds\n",
    "from scipy.optimize import fmin_cobyla\n",
    "from IPython.display import clear_output"
   ]
  },
  {
   "cell_type": "code",
   "execution_count": 27,
   "metadata": {},
   "outputs": [],
   "source": [
    "g=2.565\n",
    "gam=0.02\n",
    "om=0.16\n",
    "xi=0.05\n",
    "#R=1 #param\n",
    "C=0.25\n",
    "X = np.array([ -1.2167034 ,  0.94510265, -0.02208411,  0.60319202,  0.09466782])\n",
    "global X"
   ]
  },
  {
   "cell_type": "code",
   "execution_count": 28,
   "metadata": {},
   "outputs": [],
   "source": [
    "def Harvest(x,t,R):\n",
    "    #defining variables\n",
    "    q = x[0] #q is first state\n",
    "    p = x[1]\n",
    "    v = x[2]\n",
    "    Edrive = x[3]\n",
    "    Ediss = x[4]\n",
    "    #defining equations\n",
    "    dqdt = p\n",
    "    dpdt = -q**3+q + g*math.cos(om*t)-2*gam*p+xi*v\n",
    "    dvdt = -v/(R*C)-(xi/C)*p\n",
    "    dEdrive_dt = g*math.cos(om*t)*p #energy absorbed from drive\n",
    "    dEdiss_dt = 2*gam*p*p # energy disspated through Gamma\n",
    "#    dEC = C*v*(-lam*v-(xi/C)*p) #energy in the capacitor\n",
    "    dER = v*v/R #Energy in the resistor\n",
    "#    dOsc = p*(-q * q * q +  q + g * math.cos(om * t) - 2 * gam * p + xi * v) + (\n",
    "#                - q * q * q + q) * p # Energy IN the oscillator\n",
    "    return [dqdt,dpdt,dvdt,dEdrive_dt,dEdiss_dt]"
   ]
  },
  {
   "cell_type": "code",
   "execution_count": 29,
   "metadata": {},
   "outputs": [],
   "source": [
    "R=1\n",
    "global R"
   ]
  },
  {
   "cell_type": "code",
   "execution_count": 30,
   "metadata": {},
   "outputs": [],
   "source": [
    "def f(x, t):\n",
    "    return Harvest(x,t,R)"
   ]
  },
  {
   "cell_type": "code",
   "execution_count": 31,
   "metadata": {},
   "outputs": [],
   "source": [
    "x= odeint(f, X, np.linspace(0,1/om,num=50))"
   ]
  },
  {
   "cell_type": "code",
   "execution_count": 32,
   "metadata": {},
   "outputs": [],
   "source": [
    "res_arr=np.linspace(0.1,20,500)\n",
    "e_diss_l=[]\n",
    "avg_diss_l=[]\n",
    "for res in res_arr:\n",
    "    def f(x, t):\n",
    "        return Harvest(x,t,res)\n",
    "    x=odeint(f, X, np.linspace(0,1/om,num=50))\n",
    "    for i in x:\n",
    "        e_diss_l.append(i[4])\n",
    "    avg_diss=np.mean(e_diss_l)\n",
    "    avg_diss_l.append(avg_diss)\n",
    "    e_diss_l.clear()\n",
    "#len(x)\n",
    "    #\n",
    "    "
   ]
  },
  {
   "cell_type": "code",
   "execution_count": 33,
   "metadata": {},
   "outputs": [
    {
     "data": {
      "text/plain": [
       "500"
      ]
     },
     "execution_count": 33,
     "metadata": {},
     "output_type": "execute_result"
    }
   ],
   "source": [
    "len(avg_diss_l)"
   ]
  },
  {
   "cell_type": "code",
   "execution_count": 34,
   "metadata": {},
   "outputs": [
    {
     "data": {
      "text/plain": [
       "<matplotlib.collections.PathCollection at 0x1d255192670>"
      ]
     },
     "execution_count": 34,
     "metadata": {},
     "output_type": "execute_result"
    },
    {
     "data": {
      "image/png": "[encoded data removed]",
      "text/plain": [
       "<Figure size 432x288 with 1 Axes>"
      ]
     },
     "metadata": {
      "needs_background": "light"
     },
     "output_type": "display_data"
    }
   ],
   "source": [
    "plt.scatter(res_arr,avg_diss_l)"
   ]
  },
  {
   "cell_type": "code",
   "execution_count": null,
   "metadata": {},
   "outputs": [],
   "source": []
  }
 ],
 "metadata": {
  "kernelspec": {
   "display_name": "Python 3",
   "language": "python",
   "name": "python3"
  },
  "language_info": {
   "codemirror_mode": {
    "name": "ipython",
    "version": 3
   },
   "file_extension": ".py",
   "mimetype": "text/x-python",
   "name": "python",
   "nbconvert_exporter": "python",
   "pygments_lexer": "ipython3",
   "version": "3.8.3"
  }
 },
 "nbformat": 4,
 "nbformat_minor": 4
}
