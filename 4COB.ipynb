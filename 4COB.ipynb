{
 "cells": [
  {
   "cell_type": "code",
   "execution_count": 3,
   "metadata": {},
   "outputs": [],
   "source": [
    "import seaborn as sns\n",
    "import numpy as np\n",
    "from scipy.integrate import odeint\n",
    "'''import scipy.integrate as integrate'''\n",
    "import matplotlib.pyplot as plt\n",
    "import matplotlib\n",
    "import math\n",
    "import statistics\n",
    "import sys\n",
    "import operator\n",
    "import collections\n",
    "import time\n",
    "import pandas as pd"
   ]
  },
  {
   "cell_type": "code",
   "execution_count": 4,
   "metadata": {},
   "outputs": [],
   "source": [
    "def Harvest_params(x,t,g,gam,om,xi,R,C):\n",
    "    \n",
    "\n",
    "    \n",
    "    #C = xi/kappa\n",
    "    #R = kappa/lam/xi\n",
    "    # Assigning symbols to elements of x for ease\n",
    "    q = x[0] #q is first state\n",
    "    p = x[1]\n",
    "    v = x[2]\n",
    "    Edrive = x[3]\n",
    "    Ediss = x[4]\n",
    "    \n",
    "    # Renaming some parameters -- but this seems like a re-write, see 25 onwards\n",
    "    # lam = 1/(R*C)\n",
    "    # xi = C*(xi/C)\n",
    "    #Symbolic equations of motion\n",
    "    dqdt = p\n",
    "    dpdt = -q**3+q + g*math.cos(om*t)-2*gam*p+xi*v\n",
    "    dvdt = -v/(R*C)-(xi/C)*p\n",
    "    #Some other time integrals we want to compute\n",
    "    dEdrive_dt = g*math.cos(om*t)*p #energy absorbed from drive\n",
    "    dEdiss_dt = 2*gam*p*p # energy disspated through Gamma\n",
    "#    dEC = C*v*(-lam*v-(xi/C)*p) #energy in the capacitor\n",
    "    dER = v*v/R #Energy in the resistor\n",
    "#    dOsc = p*(-q * q * q +  q + g * math.cos(om * t) - 2 * gam * p + xi * v) + (\n",
    "#                - q * q * q + q) * p # Energy IN the oscillator\n",
    "    return [dqdt,dpdt,dvdt,dEdrive_dt,dEdiss_dt, dER]"
   ]
  },
  {
   "cell_type": "code",
   "execution_count": 5,
   "metadata": {},
   "outputs": [],
   "source": [
    "#function which matches efficiency with resistance and omega. rewritten so that we can input the parameeters we want\n",
    "\n",
    "def getDrive(g,gam,om,xi,R,C):\n",
    "    \n",
    "    x0 = [1,0,0,0,0,0] #Initial values. Change here.\n",
    "    totPoints = 100\n",
    "    periods = 4 #play with this\n",
    "    pointPerPeroid = totPoints/periods\n",
    "\n",
    "    t = np.linspace(0, periods*(2*math.pi)/om, totPoints)\n",
    "    def Harvest(x,t):\n",
    "        return Harvest_params(x,t,g,gam,om,xi,R,C)\n",
    "        \n",
    "    x=odeint(Harvest,x0,t)\n",
    "    numOfPoints = 99 #This is the transient number of points to be rejected right here\n",
    "\n",
    "    q = x[:,0][numOfPoints:] #Starting FROM numOfPoints\n",
    "    p = x[:,1][numOfPoints:]\n",
    "    v = x[:,2][numOfPoints:]\n",
    "    Edrive = x[:,3][numOfPoints:]\n",
    "    Ediss = x[:,4][numOfPoints:]\n",
    "    # Ecap = x[:,5][600000:]\n",
    "    ER = x[:,5][numOfPoints:]\n",
    "    # EOsc = x[:,7][600000:]\n",
    "    eff=(Edrive-Ediss)/Edrive\n",
    "    return R, om, float(Edrive) #returns omega, resistance, and efficiency"
   ]
  },
  {
   "cell_type": "code",
   "execution_count": 6,
   "metadata": {},
   "outputs": [
    {
     "data": {
      "text/plain": [
       "(0.5, 1, 5.723176346749088)"
      ]
     },
     "execution_count": 6,
     "metadata": {},
     "output_type": "execute_result"
    }
   ],
   "source": [
    "#getDrive(g,gam, om,  xi,       R,     C) random numbers here\n",
    "getDrive(2.565, 0.02, 1,   0.05,    0.5,  0.25)"
   ]
  },
  {
   "cell_type": "code",
   "execution_count": 7,
   "metadata": {},
   "outputs": [
    {
     "data": {
      "text/plain": [
       "0.09715495123527139"
      ]
     },
     "execution_count": 7,
     "metadata": {},
     "output_type": "execute_result"
    }
   ],
   "source": [
    "def optimization_function(Romg_arr):\n",
    "    R = Romg_arr[0]\n",
    "    #omega = Romg_arr[1]\n",
    "    #g_amp= Romg_arr[2]\n",
    "    return 1/(getDrive(2.5,0.02, 0.16,0.05,R,0.25)[2])\n",
    "\n",
    "optimization_function(np.array([0.59]))"
   ]
  },
  {
   "cell_type": "code",
   "execution_count": 8,
   "metadata": {},
   "outputs": [],
   "source": [
    "from scipy.optimize import minimize\n",
    "from scipy.optimize import Bounds\n",
    "x0=np.array([0.59]) #(res,om,g)\n",
    "bnds = ((0, 2.0),(0,2.0))\n",
    "res = minimize(optimization_function, x0, method='SLSQP',bounds=bnds,tol=1e-10)"
   ]
  },
  {
   "cell_type": "code",
   "execution_count": 9,
   "metadata": {},
   "outputs": [
    {
     "data": {
      "text/plain": [
       "array([0.58942114, 0.59      ])"
      ]
     },
     "execution_count": 9,
     "metadata": {},
     "output_type": "execute_result"
    }
   ],
   "source": [
    "res.x"
   ]
  },
  {
   "cell_type": "code",
   "execution_count": 10,
   "metadata": {},
   "outputs": [
    {
     "data": {
      "text/plain": [
       "(1.2, 1.3, 1.892795640964871)"
      ]
     },
     "execution_count": 10,
     "metadata": {},
     "output_type": "execute_result"
    }
   ],
   "source": [
    "getDrive(0.57,0.125, 1.3,0.2,1.2,1)"
   ]
  },
  {
   "cell_type": "code",
   "execution_count": 11,
   "metadata": {},
   "outputs": [
    {
     "name": "stderr",
     "output_type": "stream",
     "text": [
      "100%|██████████████████████████████████████████████████████████████████████████████████| 30/30 [00:04<00:00,  7.06it/s]\n"
     ]
    }
   ],
   "source": [
    "import tqdm\n",
    "from tqdm import tqdm\n",
    "res_ar=np.linspace(0.1,0.25,30)\n",
    "edrive_test=[]\n",
    "res_test=[]\n",
    "for i in tqdm(res_ar):\n",
    "    #print(i)\n",
    "    edrive_test.append(1/(getDrive(2.5,0.02, 0.16,0.05,i,0.25)[2]))\n",
    "    res_test.append(1/(getDrive(2.5,0.02, 0.16,0.05,i,0.25)[0]))\n"
   ]
  },
  {
   "cell_type": "code",
   "execution_count": 12,
   "metadata": {},
   "outputs": [
    {
     "data": {
      "text/plain": [
       "(0.25, 0.16, 8.665598766244017)"
      ]
     },
     "execution_count": 12,
     "metadata": {},
     "output_type": "execute_result"
    }
   ],
   "source": [
    "getDrive(2.5,0.02, 0.16,0.05,0.25,0.25)"
   ]
  },
  {
   "cell_type": "code",
   "execution_count": 13,
   "metadata": {},
   "outputs": [
    {
     "name": "stderr",
     "output_type": "stream",
     "text": [
      "  0%|                                                                                           | 0/30 [00:00<?, ?it/s]C:\\Users\\Eugene Surdutovich\\anaconda3\\lib\\site-packages\\scipy\\optimize\\_minimize.py:539: RuntimeWarning: Method COBYLA cannot handle bounds.\n",
      "  warn('Method %s cannot handle bounds.' % method,\n",
      "  3%|██▊                                                                                | 1/30 [00:01<00:36,  1.25s/it]C:\\Users\\Eugene Surdutovich\\anaconda3\\lib\\site-packages\\scipy\\integrate\\odepack.py:247: ODEintWarning: Excess work done on this call (perhaps wrong Dfun type). Run with full_output = 1 to get quantitative information.\n",
      "  warnings.warn(warning_msg, ODEintWarning)\n",
      "100%|██████████████████████████████████████████████████████████████████████████████████| 30/30 [00:39<00:00,  1.30s/it]\n"
     ]
    }
   ],
   "source": [
    "import tqdm\n",
    "from tqdm import tqdm\n",
    "resopt_ar=np.linspace(0.1,0.25,30)\n",
    "edrive_test2=[]\n",
    "res_test2=[]\n",
    "for i in tqdm(resopt_ar):\n",
    "    #print(i)\n",
    "    res = minimize(optimization_function, np.array([i]), method='COBYLA',bounds=((0.5, 2.25),),tol=1e-5)\n",
    "    edrive_test2.append(float(res.fun))\n",
    "    res_test2.append(res.x)\n"
   ]
  },
  {
   "cell_type": "code",
   "execution_count": 14,
   "metadata": {},
   "outputs": [],
   "source": [
    "  #use this stuff"
   ]
  },
  {
   "cell_type": "code",
   "execution_count": 15,
   "metadata": {},
   "outputs": [
    {
     "data": {
      "text/plain": [
       "[0.08120392396993022,\n",
       " 0.08061067192027718,\n",
       " 0.07405070429148362,\n",
       " 0.08234434450173667,\n",
       " 0.08234434767129796,\n",
       " 0.08234436237268396,\n",
       " 0.08138210887427781,\n",
       " 0.08234434844478941,\n",
       " 0.08272654232115784,\n",
       " 0.08272652277599185,\n",
       " 0.08272651088977906,\n",
       " 0.08234434627539447,\n",
       " 0.08272654326633067,\n",
       " 0.08234434834134759,\n",
       " 0.08234435779882822,\n",
       " 0.08234435437046926,\n",
       " 0.08234435358192896,\n",
       " 0.08234434354589432,\n",
       " 0.08272651883565828,\n",
       " 0.08272654433649283,\n",
       " 0.08272652328097385,\n",
       " 0.0823443571385564,\n",
       " 0.0827265182577752,\n",
       " 0.08234433884384684,\n",
       " 0.08234434969536279,\n",
       " 0.08234437220077075,\n",
       " 0.08234435586096683,\n",
       " 0.08234435721875143,\n",
       " 0.08234433824336916,\n",
       " 0.08234435457991558]"
      ]
     },
     "execution_count": 15,
     "metadata": {},
     "output_type": "execute_result"
    }
   ],
   "source": [
    "edrive_test2\n",
    "#rest_single=[]\n",
    "#for i in res_test2:\n",
    " #   rest_single.append(i[1])\n",
    "#plt.title('Minimized $E_{drive}^{-1}$ vs $R$: (1000 data points)')\n",
    "#plt.xlabel('$R$')\n",
    "#plt.ylabel('$E_{drive}^{-1}$')\n",
    "\n",
    "#plt.plot(res_ar[500:750],edrive_test[500:750])\n",
    "#plt.savefig('edrive-1-op_vs_R-op-2-10.png')"
   ]
  },
  {
   "cell_type": "code",
   "execution_count": 16,
   "metadata": {},
   "outputs": [
    {
     "ename": "NameError",
     "evalue": "name 'ro_l' is not defined",
     "output_type": "error",
     "traceback": [
      "\u001b[1;31m---------------------------------------------------------------------------\u001b[0m",
      "\u001b[1;31mNameError\u001b[0m                                 Traceback (most recent call last)",
      "\u001b[1;32m<ipython-input-16-b5389fde9833>\u001b[0m in \u001b[0;36m<module>\u001b[1;34m\u001b[0m\n\u001b[1;32m----> 1\u001b[1;33m \u001b[0mro_l\u001b[0m\u001b[1;33m\u001b[0m\u001b[1;33m\u001b[0m\u001b[0m\n\u001b[0m",
      "\u001b[1;31mNameError\u001b[0m: name 'ro_l' is not defined"
     ]
    }
   ],
   "source": [
    "ro_l"
   ]
  },
  {
   "cell_type": "code",
   "execution_count": 17,
   "metadata": {},
   "outputs": [
    {
     "data": {
      "text/plain": [
       "[<matplotlib.lines.Line2D at 0x25d4c5f14c0>]"
      ]
     },
     "execution_count": 17,
     "metadata": {},
     "output_type": "execute_result"
    },
    {
     "data": {
      "image/png": "[encoded data removed]",
      "text/plain": [
       "<Figure size 432x288 with 1 Axes>"
      ]
     },
     "metadata": {
      "needs_background": "light"
     },
     "output_type": "display_data"
    }
   ],
   "source": [
    "plt.title('Optimized and Raw $E_{drive}^{-1}$ vs $R$: (30 points, COBYLA)')\n",
    "plt.xlabel('$R$')\n",
    "plt.ylabel('$E_{drive}^{-1}$')\n",
    "#print(edrive_test2[0])\n",
    "plt.plot(res_ar,edrive_test)\n",
    "plt.plot(resopt_ar,edrive_test2)\n",
    "\n",
    "#COBYLA\n",
    "#plt.savefig('edrive-1_vs_R-COB4.png')"
   ]
  },
  {
   "cell_type": "code",
   "execution_count": 27,
   "metadata": {},
   "outputs": [
    {
     "data": {
      "text/plain": [
       "array([1.2724038 , 0.35351972, 1.10877843, 1.82365712, 1.82368258,\n",
       "       1.82368701, 0.38311968, 1.82373216, 1.70734831, 1.70748533,\n",
       "       1.70753553, 1.82377667, 1.70736705, 1.82360345, 1.82376046,\n",
       "       1.82370963, 1.8236025 , 1.82375426, 1.70748723, 1.7073601 ,\n",
       "       1.7074666 , 1.82369248, 1.70746596, 1.82369185, 1.82373731,\n",
       "       1.82353863, 1.82385874, 1.82378688, 1.82373604, 1.82370521])"
      ]
     },
     "execution_count": 27,
     "metadata": {},
     "output_type": "execute_result"
    }
   ],
   "source": [
    "np.transpose(res_test2)[0]"
   ]
  },
  {
   "cell_type": "code",
   "execution_count": 43,
   "metadata": {},
   "outputs": [
    {
     "data": {
      "image/png": "[encoded data removed]",
      "text/plain": [
       "<Figure size 432x288 with 1 Axes>"
      ]
     },
     "metadata": {
      "needs_background": "light"
     },
     "output_type": "display_data"
    }
   ],
   "source": [
    "plt.title('Linear Comparison of $R_{opt}$ vs $R_{raw}$: (30 points, COBYLA)')\n",
    "plt.xlabel('$R_{raw}$')\n",
    "plt.ylabel('$R_{opt}$')\n",
    "plt.plot(res_ar,ro_l)\n",
    "plt.savefig('linear_res_COB4.png',bbox_inches='tight')"
   ]
  },
  {
   "cell_type": "code",
   "execution_count": 32,
   "metadata": {},
   "outputs": [
    {
     "data": {
      "text/plain": [
       "0.12266460073224048"
      ]
     },
     "execution_count": 32,
     "metadata": {},
     "output_type": "execute_result"
    }
   ],
   "source": [
    "1/getDrive(2.5,0.02, 0.16,0.05,1.50,0.25)[2]"
   ]
  },
  {
   "cell_type": "code",
   "execution_count": 33,
   "metadata": {},
   "outputs": [],
   "source": [
    "ri_l, ro_l, Ed_l, Eo_l = [[], [], [], []]\n",
    "for i in range(len(resopt_ar)):\n",
    "    #print(i)\n",
    "    ri = resopt_ar[i]\n",
    "    Edrive_in = 1/(getDrive(2.5,0.02, 0.16,0.05,ri,0.25)[2])\n",
    "    ropt = res_test2[i][0]\n",
    "    Eopt = edrive_test2[i]\n",
    "    ri_l.append(ri)\n",
    "    Ed_l.append(Edrive_in)\n",
    "    ro_l.append(ropt)\n",
    "    Eo_l.append(Eopt)"
   ]
  },
  {
   "cell_type": "code",
   "execution_count": 34,
   "metadata": {
    "scrolled": true
   },
   "outputs": [
    {
     "data": {
      "text/plain": [
       "<matplotlib.collections.PathCollection at 0x1107b7e3070>"
      ]
     },
     "execution_count": 34,
     "metadata": {},
     "output_type": "execute_result"
    },
    {
     "data": {
      "image/png": "[encoded data removed]",
      "text/plain": [
       "<Figure size 432x288 with 1 Axes>"
      ]
     },
     "metadata": {
      "needs_background": "light"
     },
     "output_type": "display_data"
    }
   ],
   "source": [
    "plt.scatter(np.array(Ed_l),np.array(Ed_l)-np.array(Eo_l))"
   ]
  },
  {
   "cell_type": "code",
   "execution_count": null,
   "metadata": {},
   "outputs": [],
   "source": []
  },
  {
   "cell_type": "code",
   "execution_count": 35,
   "metadata": {},
   "outputs": [
    {
     "data": {
      "text/plain": [
       "[<matplotlib.lines.Line2D at 0x1107b5faf10>]"
      ]
     },
     "execution_count": 35,
     "metadata": {},
     "output_type": "execute_result"
    },
    {
     "data": {
      "image/png": "[encoded data removed]",
      "text/plain": [
       "<Figure size 432x288 with 1 Axes>"
      ]
     },
     "metadata": {
      "needs_background": "light"
     },
     "output_type": "display_data"
    }
   ],
   "source": [
    "plt.title('Linear Comparison of $R_{opt}$ vs $R_{raw}$: (1000 data points)')\n",
    "plt.xlabel('$R_{raw}$')\n",
    "plt.ylabel('$R_{opt}$')\n",
    "plt.plot(res_ar,ro_l)\n",
    "#plt.savefig('linear_res_comparison.png')"
   ]
  },
  {
   "cell_type": "code",
   "execution_count": 37,
   "metadata": {},
   "outputs": [
    {
     "data": {
      "image/png": "[encoded data removed]",
      "text/plain": [
       "<Figure size 432x288 with 1 Axes>"
      ]
     },
     "metadata": {
      "needs_background": "light"
     },
     "output_type": "display_data"
    }
   ],
   "source": [
    "plt.title('Cumulative Comparison of $R_{opt}$ vs $R_{raw}$: (1000 data points)')\n",
    "plt.xlabel('$R_{raw}$')\n",
    "plt.ylabel('$R_{opt}-R_{raw}$')\n",
    "plt.plot(res_ar,ro_l-res_ar)\n",
    "plt.savefig('cumulative_res_comparison.png')"
   ]
  },
  {
   "cell_type": "code",
   "execution_count": null,
   "metadata": {},
   "outputs": [],
   "source": []
  },
  {
   "cell_type": "code",
   "execution_count": null,
   "metadata": {},
   "outputs": [],
   "source": []
  },
  {
   "cell_type": "code",
   "execution_count": null,
   "metadata": {},
   "outputs": [],
   "source": []
  }
 ],
 "metadata": {
  "kernelspec": {
   "display_name": "Python 3",
   "language": "python",
   "name": "python3"
  },
  "language_info": {
   "codemirror_mode": {
    "name": "ipython",
    "version": 3
   },
   "file_extension": ".py",
   "mimetype": "text/x-python",
   "name": "python",
   "nbconvert_exporter": "python",
   "pygments_lexer": "ipython3",
   "version": "3.8.3"
  }
 },
 "nbformat": 4,
 "nbformat_minor": 4
}
