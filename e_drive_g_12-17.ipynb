{
 "cells": [
  {
   "cell_type": "code",
   "execution_count": 1,
   "metadata": {},
   "outputs": [],
   "source": [
    "import seaborn as sns\n",
    "import numpy as np\n",
    "from scipy.integrate import odeint\n",
    "'''import scipy.integrate as integrate'''\n",
    "import matplotlib.pyplot as plt\n",
    "import matplotlib\n",
    "import math\n",
    "\n",
    "import statistics\n",
    "import sys\n",
    "import operator\n",
    "import collections\n",
    "import time\n",
    "import pandas as pd"
   ]
  },
  {
   "cell_type": "code",
   "execution_count": 2,
   "metadata": {},
   "outputs": [],
   "source": [
    "def Harvest_params(x,t,g,gam,om,xi,R,C):\n",
    "    \n",
    "\n",
    "    \n",
    "    #C = xi/kappa\n",
    "    #R = kappa/lam/xi\n",
    "    # Assigning symbols to elements of x for ease\n",
    "    q = x[0] #q is first state\n",
    "    p = x[1]\n",
    "    v = x[2]\n",
    "    Edrive = x[3]\n",
    "    Ediss = x[4]\n",
    "    \n",
    "    # Renaming some parameters -- but this seems like a re-write, see 25 onwards\n",
    "    # lam = 1/(R*C)\n",
    "    # xi = C*(xi/C)\n",
    "    #Symbolic equations of motion\n",
    "    dqdt = p\n",
    "    dpdt = -q**3+q + g*math.cos(om*t)-2*gam*p+xi*v\n",
    "    dvdt = -v/(R*C)-(xi/C)*p\n",
    "    #Some other time integrals we want to compute\n",
    "    dEdrive_dt = g*math.cos(om*t)*p #energy absorbed from drive\n",
    "    dEdiss_dt = 2*gam*p*p # energy disspated through Gamma\n",
    "#    dEC = C*v*(-lam*v-(xi/C)*p) #energy in the capacitor\n",
    "    dER = v*v/R #Energy in the resistor\n",
    "#    dOsc = p*(-q * q * q +  q + g * math.cos(om * t) - 2 * gam * p + xi * v) + (\n",
    "#                - q * q * q + q) * p # Energy IN the oscillator\n",
    "    return [dqdt,dpdt,dvdt,dEdrive_dt,dEdiss_dt, dER]"
   ]
  },
  {
   "cell_type": "code",
   "execution_count": 8,
   "metadata": {},
   "outputs": [],
   "source": [
    "#function which matches efficiency with resistance and omega. rewritten so that we can input the parameeters we want\n",
    "\n",
    "def getEff(g,gam,om,xi,R,C):\n",
    "    \n",
    "    x0 = [1,0,0,0,0,0] #Initial values. Change here.\n",
    "    totPoints = 100\n",
    "    periods = 2\n",
    "    pointPerPeroid = totPoints/periods\n",
    "\n",
    "    t = np.linspace(0, periods*(2*math.pi)/om, totPoints)\n",
    "    def Harvest(x,t):\n",
    "        return Harvest_params(x,t,g,gam,om,xi,R,C)\n",
    "        \n",
    "    x=odeint(Harvest,x0,t)\n",
    "    numOfPoints = 99 #This is the transient number of points to be rejected right here\n",
    "\n",
    "    q = x[:,0][numOfPoints:] #Starting FROM numOfPoints\n",
    "    p = x[:,1][numOfPoints:]\n",
    "    v = x[:,2][numOfPoints:]\n",
    "    Edrive = x[:,3][numOfPoints:]\n",
    "    Ediss = x[:,4][numOfPoints:]\n",
    "    # Ecap = x[:,5][600000:]\n",
    "    ER = x[:,5][numOfPoints:]\n",
    "    # EOsc = x[:,7][600000:]\n",
    "    eff=(Edrive-Ediss)/Edrive\n",
    "    return round(g,2), Edrive #returns omega, resistance, and efficiency"
   ]
  },
  {
   "cell_type": "code",
   "execution_count": 9,
   "metadata": {},
   "outputs": [
    {
     "data": {
      "text/plain": [
       "(0.57, array([4.61321834]))"
      ]
     },
     "execution_count": 9,
     "metadata": {},
     "output_type": "execute_result"
    }
   ],
   "source": [
    "#getEff(gam, om,  xi,       R,     C)\n",
    "getEff(0.57, 0.02, 1,   0.05,    0.5,  0.25)"
   ]
  },
  {
   "cell_type": "code",
   "execution_count": 10,
   "metadata": {},
   "outputs": [],
   "source": [
    "array_list=[]#compiling array of data\n",
    "for amp in range(255,265):\n",
    "        array_list.append(getEff(0.01*amp,0.02, 0.2, 0.05,  0.55,      0.25))"
   ]
  },
  {
   "cell_type": "code",
   "execution_count": 11,
   "metadata": {},
   "outputs": [
    {
     "data": {
      "text/plain": [
       "10"
      ]
     },
     "execution_count": 11,
     "metadata": {},
     "output_type": "execute_result"
    }
   ],
   "source": [
    "len(array_list) #array of omega, resitance, and efficiencies for varying values of om and R"
   ]
  },
  {
   "cell_type": "code",
   "execution_count": 13,
   "metadata": {},
   "outputs": [],
   "source": [
    "e_drive_vals=[]\n",
    "g_vals=[]\n",
    "for i in array_list: #compiling results into separate lists for plotting\n",
    "    e_drive_vals.append(float(i[1]))\n",
    "for i in array_list:\n",
    "    g_vals.append(float(i[0]))"
   ]
  },
  {
   "cell_type": "code",
   "execution_count": 15,
   "metadata": {},
   "outputs": [
    {
     "data": {
      "text/plain": [
       "Text(0, 0.5, '$E_{Drive}$')"
      ]
     },
     "execution_count": 15,
     "metadata": {},
     "output_type": "execute_result"
    },
    {
     "data": {
      "image/png": "[encoded data removed]",
      "text/plain": [
       "<Figure size 432x288 with 1 Axes>"
      ]
     },
     "metadata": {
      "needs_background": "light"
     },
     "output_type": "display_data"
    }
   ],
   "source": [
    "plt.plot(g_vals,e_drive_vals)\n",
    "plt.title('$E_{Drive}$ vs $g$')\n",
    "plt.xlabel('$g$')\n",
    "plt.ylabel('$E_{Drive}$')"
   ]
  },
  {
   "cell_type": "code",
   "execution_count": null,
   "metadata": {},
   "outputs": [],
   "source": []
  },
  {
   "cell_type": "code",
   "execution_count": null,
   "metadata": {},
   "outputs": [],
   "source": []
  },
  {
   "cell_type": "code",
   "execution_count": null,
   "metadata": {},
   "outputs": [],
   "source": []
  }
 ],
 "metadata": {
  "kernelspec": {
   "display_name": "Python 3",
   "language": "python",
   "name": "python3"
  },
  "language_info": {
   "codemirror_mode": {
    "name": "ipython",
    "version": 3
   },
   "file_extension": ".py",
   "mimetype": "text/x-python",
   "name": "python",
   "nbconvert_exporter": "python",
   "pygments_lexer": "ipython3",
   "version": "3.8.3"
  }
 },
 "nbformat": 4,
 "nbformat_minor": 4
}
