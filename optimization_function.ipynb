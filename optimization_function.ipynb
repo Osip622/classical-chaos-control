{
 "cells": [
  {
   "cell_type": "code",
   "execution_count": 2,
   "metadata": {},
   "outputs": [],
   "source": [
    "def optimization_function(param):\n",
    "    global X, save_data, save_input, save_array, control\n",
    "    ti = save_time[-1]\n",
    "    tf = save_time[-1] + 1/om\n",
    "    save_time.append(tf)\n",
    "    def f(x, t):\n",
    "        return Harvest(x,t,param) \n",
    "    x= odeint(f, X, np.linspace(ti,tf,num=5000))\n",
    "    X=x[-1]\n",
    "    clear_output(wait=True)\n",
    "    save_data.append(X[3])\n",
    "    save_input.append(param)\n",
    "    new_points = [[a[0], a[1]] for a in x]\n",
    "    save_array += new_points\n",
    "    print(save_array)\n",
    "    plt.plot([x[0] for x in save_array], [x[1] for x in save_array])\n",
    "    plt.title(f'{(X[3])}, {param, R}')\n",
    "    plt.show()\n",
    "    return (X[3])"
   ]
  },
  {
   "cell_type": "code",
   "execution_count": null,
   "metadata": {},
   "outputs": [],
   "source": []
  }
 ],
 "metadata": {
  "kernelspec": {
   "display_name": "Python 3",
   "language": "python",
   "name": "python3"
  },
  "language_info": {
   "codemirror_mode": {
    "name": "ipython",
    "version": 3
   },
   "file_extension": ".py",
   "mimetype": "text/x-python",
   "name": "python",
   "nbconvert_exporter": "python",
   "pygments_lexer": "ipython3",
   "version": "3.8.3"
  }
 },
 "nbformat": 4,
 "nbformat_minor": 4
}
