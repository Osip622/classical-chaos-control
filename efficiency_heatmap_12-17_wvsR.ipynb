{
 "cells": [
  {
   "cell_type": "code",
   "execution_count": 1,
   "metadata": {},
   "outputs": [],
   "source": [
    "import seaborn as sns\n",
    "import numpy as np\n",
    "from scipy.integrate import odeint\n",
    "'''import scipy.integrate as integrate'''\n",
    "import matplotlib.pyplot as plt\n",
    "import matplotlib\n",
    "import math\n",
    "import statistics\n",
    "import sys\n",
    "import operator\n",
    "import collections\n",
    "import time\n",
    "import pandas as pd"
   ]
  },
  {
   "cell_type": "code",
   "execution_count": 2,
   "metadata": {},
   "outputs": [],
   "source": [
    "def Harvest_params(x,t,gam,om,xi,R,C):\n",
    "    \n",
    "    g=0.57\n",
    "    \n",
    "    #C = xi/kappa\n",
    "    #R = kappa/lam/xi\n",
    "    # Assigning symbols to elements of x for ease\n",
    "    q = x[0] #q is first state\n",
    "    p = x[1]\n",
    "    v = x[2]\n",
    "    Edrive = x[3]\n",
    "    Ediss = x[4]\n",
    "    \n",
    "    # Renaming some parameters -- but this seems like a re-write, see 25 onwards\n",
    "    # lam = 1/(R*C)\n",
    "    # xi = C*(xi/C)\n",
    "    #Symbolic equations of motion\n",
    "    dqdt = p\n",
    "    dpdt = -q**3+q + g*math.cos(om*t)-2*gam*p+xi*v\n",
    "    dvdt = -v/(R*C)-(xi/C)*p\n",
    "    #Some other time integrals we want to compute\n",
    "    dEdrive_dt = g*math.cos(om*t)*p #energy absorbed from drive\n",
    "    dEdiss_dt = 2*gam*p*p # energy disspated through Gamma\n",
    "#    dEC = C*v*(-lam*v-(xi/C)*p) #energy in the capacitor\n",
    "    dER = v*v/R #Energy in the resistor\n",
    "#    dOsc = p*(-q * q * q +  q + g * math.cos(om * t) - 2 * gam * p + xi * v) + (\n",
    "#                - q * q * q + q) * p # Energy IN the oscillator\n",
    "    return [dqdt,dpdt,dvdt,dEdrive_dt,dEdiss_dt, dER]"
   ]
  },
  {
   "cell_type": "code",
   "execution_count": 3,
   "metadata": {},
   "outputs": [],
   "source": [
    "#function which matches efficiency with resistance and omega. rewritten so that we can input the parameeters we want\n",
    "\n",
    "def getEff(gam,om,xi,R,C):\n",
    "    \n",
    "    x0 = [1,0,0,0,0,0] #Initial values. Change here.\n",
    "    totPoints = 100\n",
    "    periods = 2\n",
    "    pointPerPeroid = totPoints/periods\n",
    "\n",
    "    t = np.linspace(0, periods*(2*math.pi)/om, totPoints)\n",
    "    def Harvest(x,t):\n",
    "        return Harvest_params(x,t,gam,om,xi,R,C)\n",
    "        \n",
    "    x=odeint(Harvest,x0,t)\n",
    "    numOfPoints = 99 #This is the transient number of points to be rejected right here\n",
    "\n",
    "    q = x[:,0][numOfPoints:] #Starting FROM numOfPoints\n",
    "    p = x[:,1][numOfPoints:]\n",
    "    v = x[:,2][numOfPoints:]\n",
    "    Edrive = x[:,3][numOfPoints:]\n",
    "    Ediss = x[:,4][numOfPoints:]\n",
    "    # Ecap = x[:,5][600000:]\n",
    "    ER = x[:,5][numOfPoints:]\n",
    "    # EOsc = x[:,7][600000:]\n",
    "    eff=(Edrive-Ediss)/Edrive\n",
    "    return round(om,2), round(R,2), eff #returns omega, resistance, and efficiency"
   ]
  },
  {
   "cell_type": "code",
   "execution_count": 4,
   "metadata": {},
   "outputs": [
    {
     "data": {
      "text/plain": [
       "(1, 0.5, array([0.75543319]))"
      ]
     },
     "execution_count": 4,
     "metadata": {},
     "output_type": "execute_result"
    }
   ],
   "source": [
    "#getEff(gam, om,  xi,       R,     C)\n",
    "getEff(0.02, 1,   0.05,    0.5,  0.25)"
   ]
  },
  {
   "cell_type": "code",
   "execution_count": 5,
   "metadata": {},
   "outputs": [],
   "source": [
    "array_list=[]#compiling array of data\n",
    "for om in range(15,25):\n",
    "    for res in range(50,60):\n",
    "        array_list.append(getEff(0.02, om*0.01, 0.05,  (10**-2)*res,      0.25))"
   ]
  },
  {
   "cell_type": "code",
   "execution_count": 6,
   "metadata": {},
   "outputs": [
    {
     "data": {
      "text/plain": [
       "100"
      ]
     },
     "execution_count": 6,
     "metadata": {},
     "output_type": "execute_result"
    }
   ],
   "source": [
    "len(array_list) #array of omega, resitance, and efficiencies for varying values of om and R"
   ]
  },
  {
   "cell_type": "code",
   "execution_count": 7,
   "metadata": {},
   "outputs": [],
   "source": [
    "updated_array=[]\n",
    "for i in array_list:\n",
    "    if i not in updated_array:\n",
    "        updated_array.append(i)\n",
    "        "
   ]
  },
  {
   "cell_type": "code",
   "execution_count": null,
   "metadata": {},
   "outputs": [],
   "source": []
  },
  {
   "cell_type": "code",
   "execution_count": 8,
   "metadata": {},
   "outputs": [],
   "source": [
    "eff_vals=[]\n",
    "om_vals=[]\n",
    "res_vals=[]\n",
    "for i in array_list: #compiling results into separate lists for plotting\n",
    "    eff_vals.append(float(i[2]))\n",
    "for i in array_list:\n",
    "    om_vals.append(float(i[0]))\n",
    "for i in array_list:\n",
    "    res_vals.append(float(i[1]))\n",
    "len_sqrt=int(len(array_list)**0.5)#setting legth of each column    \n",
    "eff_array=np.array([eff_vals[i:i+len_sqrt] for i in range(0, 100, len_sqrt)]) #separating rows into column corresponding to R and w\n",
    "om_array=np.array([om_vals[i:i+len_sqrt] for i in range(0, 100, len_sqrt)]) \n",
    "res_array=np.array([res_vals[i:i+len_sqrt] for i in range(0, 100, len_sqrt)]) "
   ]
  },
  {
   "cell_type": "code",
   "execution_count": 9,
   "metadata": {},
   "outputs": [
    {
     "data": {
      "text/plain": [
       "array([[0.41898267, 0.40506242, 0.38893928, 0.3706316 , 0.35001589,\n",
       "        0.32738   , 0.30298251, 0.27750686, 0.25183605, 0.22766848],\n",
       "       [0.50887213, 0.50878677, 0.50865363, 0.50847381, 0.50824524,\n",
       "        0.5079659 , 0.50763692, 0.5072588 , 0.50682502, 0.5063441 ],\n",
       "       [0.2387142 , 0.23925591, 0.23979455, 0.24033073, 0.240864  ,\n",
       "        0.24139575, 0.2419244 , 0.24244987, 0.24297449, 0.24349521],\n",
       "       [0.51315826, 0.50925077, 0.49334948, 0.46234965, 0.41313863,\n",
       "        0.3436678 , 0.26093519, 0.2358386 , 0.45041171, 0.11956255],\n",
       "       [0.4144609 , 0.41351263, 0.41258011, 0.41165731, 0.41073887,\n",
       "        0.40984392, 0.40894645, 0.40805739, 0.40717597, 0.4063136 ],\n",
       "       [0.08481524, 0.0878387 , 0.09104807, 0.09446229, 0.09805126,\n",
       "        0.10185029, 0.10585847, 0.11007328, 0.11449578, 0.11914619],\n",
       "       [0.41919648, 0.41798282, 0.41677772, 0.41557906, 0.4143799 ,\n",
       "        0.41319051, 0.41200902, 0.41083645, 0.40967246, 0.40851323],\n",
       "       [0.29647729, 0.29681491, 0.29716247, 0.29752488, 0.29789996,\n",
       "        0.29828525, 0.2986819 , 0.2990927 , 0.2995138 , 0.29994694],\n",
       "       [0.36316628, 0.36371906, 0.36427034, 0.36481958, 0.36536363,\n",
       "        0.36590712, 0.3664472 , 0.36698357, 0.3675191 , 0.36804964],\n",
       "       [0.32115053, 0.32147085, 0.3217861 , 0.3220973 , 0.32240379,\n",
       "        0.32270683, 0.323005  , 0.32329899, 0.32358889, 0.32387481]])"
      ]
     },
     "execution_count": 9,
     "metadata": {},
     "output_type": "execute_result"
    }
   ],
   "source": [
    "eff_array"
   ]
  },
  {
   "cell_type": "code",
   "execution_count": 12,
   "metadata": {},
   "outputs": [
    {
     "data": {
      "image/png": "[encoded data removed]",
      "text/plain": [
       "<Figure size 432x288 with 2 Axes>"
      ]
     },
     "metadata": {
      "needs_background": "light"
     },
     "output_type": "display_data"
    }
   ],
   "source": [
    "h=sns.heatmap(eff_array,cbar_kws={'label': '$\\eta$'})\n",
    "h.set_yticklabels(['0.15','','','','','0.20','','','','0.25'])\n",
    "h.set_xticklabels(['0.5','','','','','0.55','','','','0.59'])\n",
    "h.set_xlabel(\"R\", fontsize = 10)\n",
    "h.set_ylabel(\"$\\omega$\", fontsize = 10)\n",
    "h.set_title(\"Heatmap of efficiency for $\\omega$ vs R\", fontsize=15)\n",
    "plt.savefig(\"heatmap_eff.png\")"
   ]
  },
  {
   "cell_type": "code",
   "execution_count": null,
   "metadata": {},
   "outputs": [],
   "source": []
  }
 ],
 "metadata": {
  "kernelspec": {
   "display_name": "Python 3",
   "language": "python",
   "name": "python3"
  },
  "language_info": {
   "codemirror_mode": {
    "name": "ipython",
    "version": 3
   },
   "file_extension": ".py",
   "mimetype": "text/x-python",
   "name": "python",
   "nbconvert_exporter": "python",
   "pygments_lexer": "ipython3",
   "version": "3.8.3"
  }
 },
 "nbformat": 4,
 "nbformat_minor": 4
}
