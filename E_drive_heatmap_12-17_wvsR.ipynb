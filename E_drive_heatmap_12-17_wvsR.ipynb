{
 "cells": [
  {
   "cell_type": "code",
   "execution_count": 13,
   "metadata": {},
   "outputs": [],
   "source": [
    "import seaborn as sns\n",
    "import numpy as np\n",
    "from scipy.integrate import odeint\n",
    "'''import scipy.integrate as integrate'''\n",
    "import matplotlib.pyplot as plt\n",
    "import matplotlib\n",
    "import math\n",
    "import statistics\n",
    "import sys\n",
    "import operator\n",
    "import collections\n",
    "import time\n",
    "import pandas as pd"
   ]
  },
  {
   "cell_type": "code",
   "execution_count": 14,
   "metadata": {},
   "outputs": [],
   "source": [
    "def Harvest_params(x,t,gam,om,xi,R,C):\n",
    "    \n",
    "    g=0.57\n",
    "    \n",
    "    #C = xi/kappa\n",
    "    #R = kappa/lam/xi\n",
    "    # Assigning symbols to elements of x for ease\n",
    "    q = x[0] #q is first state\n",
    "    p = x[1]\n",
    "    v = x[2]\n",
    "    Edrive = x[3]\n",
    "    Ediss = x[4]\n",
    "    \n",
    "    # Renaming some parameters -- but this seems like a re-write, see 25 onwards\n",
    "    # lam = 1/(R*C)\n",
    "    # xi = C*(xi/C)\n",
    "    #Symbolic equations of motion\n",
    "    dqdt = p\n",
    "    dpdt = -q**3+q + g*math.cos(om*t)-2*gam*p+xi*v\n",
    "    dvdt = -v/(R*C)-(xi/C)*p\n",
    "    #Some other time integrals we want to compute\n",
    "    dEdrive_dt = g*math.cos(om*t)*p #energy absorbed from drive\n",
    "    dEdiss_dt = 2*gam*p*p # energy disspated through Gamma\n",
    "#    dEC = C*v*(-lam*v-(xi/C)*p) #energy in the capacitor\n",
    "    dER = v*v/R #Energy in the resistor\n",
    "#    dOsc = p*(-q * q * q +  q + g * math.cos(om * t) - 2 * gam * p + xi * v) + (\n",
    "#                - q * q * q + q) * p # Energy IN the oscillator\n",
    "    return [dqdt,dpdt,dvdt,dEdrive_dt,dEdiss_dt, dER]"
   ]
  },
  {
   "cell_type": "code",
   "execution_count": 15,
   "metadata": {},
   "outputs": [],
   "source": [
    "#function which matches efficiency with resistance and omega. rewritten so that we can input the parameeters we want\n",
    "\n",
    "def getEff(gam,om,xi,R,C):\n",
    "    \n",
    "    x0 = [1,0,0,0,0,0] #Initial values. Change here.\n",
    "    totPoints = 100\n",
    "    periods = 2\n",
    "    pointPerPeroid = totPoints/periods\n",
    "\n",
    "    t = np.linspace(0, periods*(2*math.pi)/om, totPoints)\n",
    "    def Harvest(x,t):\n",
    "        return Harvest_params(x,t,gam,om,xi,R,C)\n",
    "        \n",
    "    x=odeint(Harvest,x0,t)\n",
    "    numOfPoints = 99 #This is the transient number of points to be rejected right here\n",
    "\n",
    "    q = x[:,0][numOfPoints:] #Starting FROM numOfPoints\n",
    "    p = x[:,1][numOfPoints:]\n",
    "    v = x[:,2][numOfPoints:]\n",
    "    Edrive = x[:,3][numOfPoints:]\n",
    "    Ediss = x[:,4][numOfPoints:]\n",
    "    # Ecap = x[:,5][600000:]\n",
    "    ER = x[:,5][numOfPoints:]\n",
    "    # EOsc = x[:,7][600000:]\n",
    "    eff=(Edrive-Ediss)/Edrive\n",
    "    return round(om,2), round(R,2), Edrive #returns omega, resistance, and E_drive"
   ]
  },
  {
   "cell_type": "code",
   "execution_count": 16,
   "metadata": {},
   "outputs": [
    {
     "data": {
      "text/plain": [
       "(1, 0.5, array([4.61321834]))"
      ]
     },
     "execution_count": 16,
     "metadata": {},
     "output_type": "execute_result"
    }
   ],
   "source": [
    "#getEff(gam, om,  xi,       R,     C)\n",
    "getEff(0.02, 1,   0.05,    0.5,  0.25)"
   ]
  },
  {
   "cell_type": "code",
   "execution_count": 17,
   "metadata": {},
   "outputs": [],
   "source": [
    "array_list=[]#compiling array of data\n",
    "for om in range(15,25):\n",
    "    for res in range(50,60):\n",
    "        array_list.append(getEff(0.02, om*0.01, 0.05,  (10**-2)*res,      0.25))"
   ]
  },
  {
   "cell_type": "code",
   "execution_count": 18,
   "metadata": {},
   "outputs": [
    {
     "data": {
      "text/plain": [
       "100"
      ]
     },
     "execution_count": 18,
     "metadata": {},
     "output_type": "execute_result"
    }
   ],
   "source": [
    "len(array_list) #array of omega, resitance, and efficiencies for varying values of om and R"
   ]
  },
  {
   "cell_type": "code",
   "execution_count": 19,
   "metadata": {},
   "outputs": [],
   "source": [
    "updated_array=[]\n",
    "for i in array_list:\n",
    "    if i not in updated_array:\n",
    "        updated_array.append(i)\n",
    "        "
   ]
  },
  {
   "cell_type": "code",
   "execution_count": null,
   "metadata": {},
   "outputs": [],
   "source": []
  },
  {
   "cell_type": "code",
   "execution_count": 20,
   "metadata": {},
   "outputs": [],
   "source": [
    "e_drive_vals=[]\n",
    "om_vals=[]\n",
    "res_vals=[]\n",
    "for i in array_list: #compiling results into separate lists for plotting\n",
    "    e_drive_vals.append(float(i[2]))\n",
    "for i in array_list:\n",
    "    om_vals.append(float(i[0]))\n",
    "for i in array_list:\n",
    "    res_vals.append(float(i[1]))\n",
    "len_sqrt=int(len(array_list)**0.5)#setting legth of each column    \n",
    "e_drive_array=np.array([e_drive_vals[i:i+len_sqrt] for i in range(0, 100, len_sqrt)]) #separating rows into column corresponding to R and w\n",
    "om_array=np.array([om_vals[i:i+len_sqrt] for i in range(0, 100, len_sqrt)]) \n",
    "res_array=np.array([res_vals[i:i+len_sqrt] for i in range(0, 100, len_sqrt)]) "
   ]
  },
  {
   "cell_type": "code",
   "execution_count": 24,
   "metadata": {},
   "outputs": [
    {
     "data": {
      "text/plain": [
       "array([[2.08896592, 2.03435378, 1.97438352, 1.91063126, 1.84414268,\n",
       "        1.77710019, 1.7111158 , 1.648376  , 1.59080973, 1.54134201],\n",
       "       [2.12070441, 2.12015646, 2.11938998, 2.11840593, 2.11719551,\n",
       "        2.11574727, 2.11406429, 2.11214775, 2.10996726, 2.10755906],\n",
       "       [1.39746025, 1.3982379 , 1.39901045, 1.39978555, 1.4005567 ,\n",
       "        1.40132912, 1.402098  , 1.40286378, 1.40363001, 1.40439382],\n",
       "       [2.10534705, 2.09420086, 2.02556202, 1.89267945, 1.71023916,\n",
       "        1.50956143, 1.33137861, 1.2856471 , 1.62107812, 0.98011439],\n",
       "       [1.51308807, 1.51056168, 1.50808372, 1.50563875, 1.50321247,\n",
       "        1.50085334, 1.49849543, 1.49616611, 1.49386327, 1.49161502],\n",
       "       [0.92259395, 0.92597108, 0.92956615, 0.93340411, 0.93745469,\n",
       "        0.9417627 , 0.94633277, 0.95116726, 0.95627322, 0.96168177],\n",
       "       [1.85278267, 1.84788118, 1.84303739, 1.83824053, 1.83346389,\n",
       "        1.82874505, 1.82407663, 1.81946049, 1.81489494, 1.81036479],\n",
       "       [0.94031295, 0.94095023, 0.94160378, 0.94228247, 0.9429821 ,\n",
       "        0.943699  , 0.94443484, 0.94519424, 0.94597106, 0.94676807],\n",
       "       [1.07051344, 1.07131279, 1.07211158, 1.07290898, 1.07369893,\n",
       "        1.07448969, 1.07527639, 1.07605908, 1.07684156, 1.07761767],\n",
       "       [0.86841495, 0.86848292, 0.86854667, 0.86860579, 0.86866043,\n",
       "        0.86871128, 0.86875761, 0.86879975, 0.86883787, 0.86887204]])"
      ]
     },
     "execution_count": 24,
     "metadata": {},
     "output_type": "execute_result"
    }
   ],
   "source": [
    "e_drive_array"
   ]
  },
  {
   "cell_type": "code",
   "execution_count": 23,
   "metadata": {},
   "outputs": [
    {
     "data": {
      "image/png": "[encoded data removed]",
      "text/plain": [
       "<Figure size 432x288 with 2 Axes>"
      ]
     },
     "metadata": {
      "needs_background": "light"
     },
     "output_type": "display_data"
    }
   ],
   "source": [
    "h=sns.heatmap(eff_array,cbar_kws={'label': '$E_{Drive}$'})\n",
    "h.set_yticklabels(['0.15','','','','','0.20','','','','0.25'])\n",
    "h.set_xticklabels(['0.5','','','','','0.55','','','','0.59'])\n",
    "h.set_xlabel(\"R\", fontsize = 10)\n",
    "h.set_ylabel(\"$\\omega$\", fontsize = 10)\n",
    "h.set_title(\"Heatmap of $E_{Drive} for $\\omega$ vs R\", fontsize=15)\n",
    "plt.savefig(\"heatmap_edrive.png\")"
   ]
  },
  {
   "cell_type": "code",
   "execution_count": null,
   "metadata": {},
   "outputs": [],
   "source": []
  }
 ],
 "metadata": {
  "kernelspec": {
   "display_name": "Python 3",
   "language": "python",
   "name": "python3"
  },
  "language_info": {
   "codemirror_mode": {
    "name": "ipython",
    "version": 3
   },
   "file_extension": ".py",
   "mimetype": "text/x-python",
   "name": "python",
   "nbconvert_exporter": "python",
   "pygments_lexer": "ipython3",
   "version": "3.8.3"
  }
 },
 "nbformat": 4,
 "nbformat_minor": 4
}
