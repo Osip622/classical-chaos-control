{
 "cells": [
  {
   "cell_type": "code",
   "execution_count": 18,
   "metadata": {},
   "outputs": [],
   "source": [
    "import seaborn as sns\n",
    "import numpy as np\n",
    "from scipy.integrate import odeint\n",
    "'''import scipy.integrate as integrate'''\n",
    "import matplotlib.pyplot as plt\n",
    "import matplotlib\n",
    "import math\n",
    "\n",
    "import statistics\n",
    "import sys\n",
    "import operator\n",
    "import collections\n",
    "import time\n",
    "import pandas as pd"
   ]
  },
  {
   "cell_type": "code",
   "execution_count": 19,
   "metadata": {},
   "outputs": [],
   "source": [
    "def Harvest_params(x,t,g,gam,om,xi,R,C):\n",
    "    \n",
    "\n",
    "    \n",
    "    #C = xi/kappa\n",
    "    #R = kappa/lam/xi\n",
    "    # Assigning symbols to elements of x for ease\n",
    "    q = x[0] #q is first state\n",
    "    p = x[1]\n",
    "    v = x[2]\n",
    "    Edrive = x[3]\n",
    "    Ediss = x[4]\n",
    "    \n",
    "    # Renaming some parameters -- but this seems like a re-write, see 25 onwards\n",
    "    # lam = 1/(R*C)\n",
    "    # xi = C*(xi/C)\n",
    "    #Symbolic equations of motion\n",
    "    dqdt = p\n",
    "    dpdt = -q**3+q + g*math.cos(om*t)-2*gam*p+xi*v\n",
    "    dvdt = -v/(R*C)-(xi/C)*p\n",
    "    #Some other time integrals we want to compute\n",
    "    dEdrive_dt = g*math.cos(om*t)*p #energy absorbed from drive\n",
    "    dEdiss_dt = 2*gam*p*p # energy disspated through Gamma\n",
    "#    dEC = C*v*(-lam*v-(xi/C)*p) #energy in the capacitor\n",
    "    dER = v*v/R #Energy in the resistor\n",
    "#    dOsc = p*(-q * q * q +  q + g * math.cos(om * t) - 2 * gam * p + xi * v) + (\n",
    "#                - q * q * q + q) * p # Energy IN the oscillator\n",
    "    return [dqdt,dpdt,dvdt,dEdrive_dt,dEdiss_dt, dER]"
   ]
  },
  {
   "cell_type": "code",
   "execution_count": 20,
   "metadata": {},
   "outputs": [],
   "source": [
    "#function which matches efficiency with resistance and omega. rewritten so that we can input the parameeters we want\n",
    "\n",
    "def getEff(g,gam,om,xi,R,C):\n",
    "    \n",
    "    x0 = [1,0,0,0,0,0] #Initial values. Change here.\n",
    "    totPoints = 100\n",
    "    periods = 2\n",
    "    pointPerPeroid = totPoints/periods\n",
    "\n",
    "    t = np.linspace(0, periods*(2*math.pi)/om, totPoints)\n",
    "    def Harvest(x,t):\n",
    "        return Harvest_params(x,t,g,gam,om,xi,R,C)\n",
    "        \n",
    "    x=odeint(Harvest,x0,t)\n",
    "    numOfPoints = 99 #This is the transient number of points to be rejected right here\n",
    "\n",
    "    q = x[:,0][numOfPoints:] #Starting FROM numOfPoints\n",
    "    p = x[:,1][numOfPoints:]\n",
    "    v = x[:,2][numOfPoints:]\n",
    "    Edrive = x[:,3][numOfPoints:]\n",
    "    Ediss = x[:,4][numOfPoints:]\n",
    "    # Ecap = x[:,5][600000:]\n",
    "    ER = x[:,5][numOfPoints:]\n",
    "    # EOsc = x[:,7][600000:]\n",
    "    eff=(Edrive-Ediss)/Edrive\n",
    "    return round(g,2), round(R,2), eff #returns omega, resistance, and efficiency"
   ]
  },
  {
   "cell_type": "code",
   "execution_count": 21,
   "metadata": {},
   "outputs": [
    {
     "data": {
      "text/plain": [
       "(0.57, 0.5, array([0.75543319]))"
      ]
     },
     "execution_count": 21,
     "metadata": {},
     "output_type": "execute_result"
    }
   ],
   "source": [
    "#getEff(gam, om,  xi,       R,     C)\n",
    "getEff(0.57, 0.02, 1,   0.05,    0.5,  0.25)"
   ]
  },
  {
   "cell_type": "code",
   "execution_count": 22,
   "metadata": {},
   "outputs": [],
   "source": [
    "array_list=[]#compiling array of data\n",
    "for amp in range(255,265):\n",
    "    for res in range(50,60):\n",
    "        array_list.append(getEff(0.01*amp,0.02, 0.2, 0.05,  (10**-2)*res,      0.25))"
   ]
  },
  {
   "cell_type": "code",
   "execution_count": 23,
   "metadata": {},
   "outputs": [
    {
     "data": {
      "text/plain": [
       "100"
      ]
     },
     "execution_count": 23,
     "metadata": {},
     "output_type": "execute_result"
    }
   ],
   "source": [
    "len(array_list) #array of g, resitance, and efficiencies for varying values of g and R"
   ]
  },
  {
   "cell_type": "code",
   "execution_count": 24,
   "metadata": {},
   "outputs": [],
   "source": [
    "updated_array=[]\n",
    "for i in array_list:\n",
    "    if i not in updated_array:\n",
    "        updated_array.append(i)\n",
    "        "
   ]
  },
  {
   "cell_type": "code",
   "execution_count": null,
   "metadata": {},
   "outputs": [],
   "source": []
  },
  {
   "cell_type": "code",
   "execution_count": 25,
   "metadata": {},
   "outputs": [],
   "source": [
    "eff_vals=[]\n",
    "g_vals=[]\n",
    "res_vals=[]\n",
    "for i in array_list: #compiling results into separate lists for plotting\n",
    "    eff_vals.append(float(i[2]))\n",
    "for i in array_list:\n",
    "    g_vals.append(float(i[0]))\n",
    "for i in array_list:\n",
    "    res_vals.append(float(i[1]))\n",
    "len_sqrt=int(len(array_list)**0.5)#setting legth of each column    \n",
    "eff_array=np.array([eff_vals[i:i+len_sqrt] for i in range(0, 100, len_sqrt)]) #separating rows into column corresponding to R and w\n",
    "g_array=np.array([g_vals[i:i+len_sqrt] for i in range(0, 100, len_sqrt)]) \n",
    "res_array=np.array([res_vals[i:i+len_sqrt] for i in range(0, 100, len_sqrt)]) "
   ]
  },
  {
   "cell_type": "code",
   "execution_count": 26,
   "metadata": {},
   "outputs": [
    {
     "data": {
      "text/plain": [
       "array([[0.22064217, 0.22046661, 0.22029412, 0.22012978, 0.21995945,\n",
       "        0.21979598, 0.2196365 , 0.219478  , 0.21931636, 0.21916665],\n",
       "       [0.29547515, 0.29506203, 0.2946531 , 0.29424545, 0.29384043,\n",
       "        0.29344023, 0.29304256, 0.29265301, 0.29226082, 0.29187528],\n",
       "       [0.353224  , 0.35264665, 0.35207209, 0.35149901, 0.35093021,\n",
       "        0.35036597, 0.34980161, 0.34924369, 0.34868571, 0.34813614],\n",
       "       [0.39425106, 0.39354908, 0.39284917, 0.39214903, 0.39145468,\n",
       "        0.39076187, 0.39007184, 0.38938616, 0.38870354, 0.38802158],\n",
       "       [0.420903  , 0.4200834 , 0.41926529, 0.41844299, 0.41762984,\n",
       "        0.4168153 , 0.41600352, 0.41519656, 0.4143904 , 0.41358528],\n",
       "       [0.43506797, 0.4341086 , 0.43314147, 0.43218513, 0.43122195,\n",
       "        0.43026478, 0.4293085 , 0.42835017, 0.42739583, 0.42644678],\n",
       "       [0.43728491, 0.43612398, 0.43496106, 0.43380336, 0.43263791,\n",
       "        0.43147155, 0.43030692, 0.42914739, 0.42798792, 0.42682646],\n",
       "       [0.42610926, 0.42464253, 0.42317416, 0.4217018 , 0.4202356 ,\n",
       "        0.41875032, 0.41728164, 0.41580239, 0.4143303 , 0.4128518 ],\n",
       "       [0.39711051, 0.39515708, 0.39320901, 0.39125647, 0.38930266,\n",
       "        0.38733732, 0.38537927, 0.38341004, 0.38144637, 0.37948468],\n",
       "       [0.34127657, 0.33859615, 0.33591049, 0.33322076, 0.33053091,\n",
       "        0.32782693, 0.32514796, 0.32244672, 0.31976212, 0.31707224]])"
      ]
     },
     "execution_count": 26,
     "metadata": {},
     "output_type": "execute_result"
    }
   ],
   "source": [
    "eff_array"
   ]
  },
  {
   "cell_type": "code",
   "execution_count": 28,
   "metadata": {},
   "outputs": [
    {
     "data": {
      "image/png": "[encoded data removed]",
      "text/plain": [
       "<Figure size 432x288 with 2 Axes>"
      ]
     },
     "metadata": {
      "needs_background": "light"
     },
     "output_type": "display_data"
    }
   ],
   "source": [
    "h=sns.heatmap(eff_array,cbar_kws={'label': '$\\eta$'})\n",
    "h.set_yticklabels(['0.15','','','','','0.20','','','','0.25'])\n",
    "h.set_xticklabels(['0.5','','','','','0.55','','','','0.59'])\n",
    "h.set_xlabel(\"R\", fontsize = 10)\n",
    "h.set_ylabel(\"$g$\", fontsize = 10)\n",
    "h.set_title(\"Heatmap of efficiency for $g$ vs R\", fontsize=15)\n",
    "plt.savefig(\"heatmap_eff_gr.png\")"
   ]
  },
  {
   "cell_type": "code",
   "execution_count": null,
   "metadata": {},
   "outputs": [],
   "source": []
  },
  {
   "cell_type": "code",
   "execution_count": null,
   "metadata": {},
   "outputs": [],
   "source": []
  }
 ],
 "metadata": {
  "kernelspec": {
   "display_name": "Python 3",
   "language": "python",
   "name": "python3"
  },
  "language_info": {
   "codemirror_mode": {
    "name": "ipython",
    "version": 3
   },
   "file_extension": ".py",
   "mimetype": "text/x-python",
   "name": "python",
   "nbconvert_exporter": "python",
   "pygments_lexer": "ipython3",
   "version": "3.8.3"
  }
 },
 "nbformat": 4,
 "nbformat_minor": 4
}
