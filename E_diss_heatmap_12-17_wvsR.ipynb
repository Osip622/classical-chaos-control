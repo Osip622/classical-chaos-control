{
 "cells": [
  {
   "cell_type": "code",
   "execution_count": 1,
   "metadata": {},
   "outputs": [],
   "source": [
    "import seaborn as sns\n",
    "import numpy as np\n",
    "from scipy.integrate import odeint\n",
    "'''import scipy.integrate as integrate'''\n",
    "import matplotlib.pyplot as plt\n",
    "import matplotlib\n",
    "import math\n",
    "import statistics\n",
    "import sys\n",
    "import operator\n",
    "import collections\n",
    "import time\n",
    "import pandas as pd"
   ]
  },
  {
   "cell_type": "code",
   "execution_count": 2,
   "metadata": {},
   "outputs": [],
   "source": [
    "def Harvest_params(x,t,gam,om,xi,R,C):\n",
    "    \n",
    "    g=0.57\n",
    "    \n",
    "    #C = xi/kappa\n",
    "    #R = kappa/lam/xi\n",
    "    # Assigning symbols to elements of x for ease\n",
    "    q = x[0] #q is first state\n",
    "    p = x[1]\n",
    "    v = x[2]\n",
    "    Edrive = x[3]\n",
    "    Ediss = x[4]\n",
    "    \n",
    "    # Renaming some parameters -- but this seems like a re-write, see 25 onwards\n",
    "    # lam = 1/(R*C)\n",
    "    # xi = C*(xi/C)\n",
    "    #Symbolic equations of motion\n",
    "    dqdt = p\n",
    "    dpdt = -q**3+q + g*math.cos(om*t)-2*gam*p+xi*v\n",
    "    dvdt = -v/(R*C)-(xi/C)*p\n",
    "    #Some other time integrals we want to compute\n",
    "    dEdrive_dt = g*math.cos(om*t)*p #energy absorbed from drive\n",
    "    dEdiss_dt = 2*gam*p*p # energy disspated through Gamma\n",
    "#    dEC = C*v*(-lam*v-(xi/C)*p) #energy in the capacitor\n",
    "    dER = v*v/R #Energy in the resistor\n",
    "#    dOsc = p*(-q * q * q +  q + g * math.cos(om * t) - 2 * gam * p + xi * v) + (\n",
    "#                - q * q * q + q) * p # Energy IN the oscillator\n",
    "    return [dqdt,dpdt,dvdt,dEdrive_dt,dEdiss_dt, dER]"
   ]
  },
  {
   "cell_type": "code",
   "execution_count": 3,
   "metadata": {},
   "outputs": [],
   "source": [
    "#function which matches efficiency with resistance and omega. rewritten so that we can input the parameeters we want\n",
    "\n",
    "def getEff(gam,om,xi,R,C):\n",
    "    \n",
    "    x0 = [1,0,0,0,0,0] #Initial values. Change here.\n",
    "    totPoints = 100\n",
    "    periods = 2\n",
    "    pointPerPeroid = totPoints/periods\n",
    "\n",
    "    t = np.linspace(0, periods*(2*math.pi)/om, totPoints)\n",
    "    def Harvest(x,t):\n",
    "        return Harvest_params(x,t,gam,om,xi,R,C)\n",
    "        \n",
    "    x=odeint(Harvest,x0,t)\n",
    "    numOfPoints = 99 #This is the transient number of points to be rejected right here\n",
    "\n",
    "    q = x[:,0][numOfPoints:] #Starting FROM numOfPoints\n",
    "    p = x[:,1][numOfPoints:]\n",
    "    v = x[:,2][numOfPoints:]\n",
    "    Edrive = x[:,3][numOfPoints:]\n",
    "    Ediss = x[:,4][numOfPoints:]\n",
    "    # Ecap = x[:,5][600000:]\n",
    "    ER = x[:,5][numOfPoints:]\n",
    "    # EOsc = x[:,7][600000:]\n",
    "    eff=(Edrive-Ediss)/Edrive\n",
    "    return round(om,2), round(R,2), Ediss #returns omega, resistance, and E_diss"
   ]
  },
  {
   "cell_type": "code",
   "execution_count": 4,
   "metadata": {},
   "outputs": [
    {
     "data": {
      "text/plain": [
       "(1, 0.5, array([1.12824011]))"
      ]
     },
     "execution_count": 4,
     "metadata": {},
     "output_type": "execute_result"
    }
   ],
   "source": [
    "#getEff(gam, om,  xi,       R,     C)\n",
    "getEff(0.02, 1,   0.05,    0.5,  0.25)"
   ]
  },
  {
   "cell_type": "code",
   "execution_count": 5,
   "metadata": {},
   "outputs": [],
   "source": [
    "array_list=[]#compiling array of data\n",
    "for om in range(15,25):\n",
    "    for res in range(50,60):\n",
    "        array_list.append(getEff(0.02, om*0.01, 0.05,  (10**-2)*res,      0.25))"
   ]
  },
  {
   "cell_type": "code",
   "execution_count": 6,
   "metadata": {},
   "outputs": [
    {
     "data": {
      "text/plain": [
       "100"
      ]
     },
     "execution_count": 6,
     "metadata": {},
     "output_type": "execute_result"
    }
   ],
   "source": [
    "len(array_list) #array of omega, resitance, and efficiencies for varying values of om and R"
   ]
  },
  {
   "cell_type": "code",
   "execution_count": 7,
   "metadata": {},
   "outputs": [],
   "source": [
    "updated_array=[]\n",
    "for i in array_list:\n",
    "    if i not in updated_array:\n",
    "        updated_array.append(i)\n",
    "        "
   ]
  },
  {
   "cell_type": "code",
   "execution_count": null,
   "metadata": {},
   "outputs": [],
   "source": []
  },
  {
   "cell_type": "code",
   "execution_count": 8,
   "metadata": {},
   "outputs": [],
   "source": [
    "e_diss_vals=[]\n",
    "om_vals=[]\n",
    "res_vals=[]\n",
    "for i in array_list: #compiling results into separate lists for plotting\n",
    "    e_diss_vals.append(float(i[2]))\n",
    "for i in array_list:\n",
    "    om_vals.append(float(i[0]))\n",
    "for i in array_list:\n",
    "    res_vals.append(float(i[1]))\n",
    "len_sqrt=int(len(array_list)**0.5)#setting legth of each column    \n",
    "e_diss_array=np.array([e_diss_vals[i:i+len_sqrt] for i in range(0, 100, len_sqrt)]) #separating rows into column corresponding to R and w\n",
    "om_array=np.array([om_vals[i:i+len_sqrt] for i in range(0, 100, len_sqrt)]) \n",
    "res_array=np.array([res_vals[i:i+len_sqrt] for i in range(0, 100, len_sqrt)]) "
   ]
  },
  {
   "cell_type": "code",
   "execution_count": 10,
   "metadata": {},
   "outputs": [
    {
     "data": {
      "text/plain": [
       "array([[1.2137254 , 1.21031351, 1.20646822, 1.20249095, 1.19866343,\n",
       "        1.19531312, 1.19267764, 1.19094035, 1.1901865 , 1.19042701],\n",
       "       [1.04153704, 1.0414489 , 1.04135458, 1.04125199, 1.04114097,\n",
       "        1.0410198 , 1.0408872 , 1.04074222, 1.04058307, 1.04040897],\n",
       "       [1.06386664, 1.06370122, 1.06353537, 1.06337407, 1.063213  ,\n",
       "        1.06305423, 1.06289628, 1.06273963, 1.06258372, 1.06243066],\n",
       "       [1.02497082, 1.02772746, 1.02625206, 1.01759977, 1.00367329,\n",
       "        0.99077377, 0.98397508, 0.98244188, 0.89092556, 0.86292941],\n",
       "       [0.88597223, 0.88592535, 0.88587838, 0.88583155, 0.88578467,\n",
       "        0.88573773, 0.88569105, 0.88564447, 0.88559805, 0.88555155],\n",
       "       [0.84434392, 0.84463499, 0.84493094, 0.84523262, 0.84553607,\n",
       "        0.84584389, 0.84615543, 0.84646915, 0.84678397, 0.84710105],\n",
       "       [1.0761027 , 1.0754986 , 1.07490046, 1.07430626, 1.07371331,\n",
       "        1.07312495, 1.07254061, 1.07195979, 1.07138246, 1.07080682],\n",
       "       [0.66153152, 0.66166218, 0.66179447, 0.66192999, 0.66206777,\n",
       "        0.66220751, 0.66234924, 0.66249354, 0.66263967, 0.66278788],\n",
       "       [0.68173905, 0.68165591, 0.68157313, 0.68149078, 0.6814084 ,\n",
       "        0.68132626, 0.68124436, 0.68116308, 0.68108172, 0.68100088],\n",
       "       [0.58952303, 0.58929097, 0.58906042, 0.58883021, 0.58860102,\n",
       "        0.58837222, 0.58814455, 0.58791768, 0.58769159, 0.58746627]])"
      ]
     },
     "execution_count": 10,
     "metadata": {},
     "output_type": "execute_result"
    }
   ],
   "source": [
    "e_diss_array"
   ]
  },
  {
   "cell_type": "code",
   "execution_count": 13,
   "metadata": {},
   "outputs": [
    {
     "data": {
      "image/png": "[encoded data removed]",
      "text/plain": [
       "<Figure size 432x288 with 2 Axes>"
      ]
     },
     "metadata": {
      "needs_background": "light"
     },
     "output_type": "display_data"
    }
   ],
   "source": [
    "h=sns.heatmap(e_diss_array,cbar_kws={'label': '$E_{Diss}$'})\n",
    "h.set_yticklabels(['0.15','','','','','0.20','','','','0.25'])\n",
    "h.set_xticklabels(['0.5','','','','','0.55','','','','0.59'])\n",
    "h.set_xlabel(\"R\", fontsize = 10)\n",
    "h.set_ylabel(\"$\\omega$\", fontsize = 10)\n",
    "h.set_title(\"Heatmap of $E_{Diss} for $\\omega$ vs R\", fontsize=15)\n",
    "plt.savefig(\"heatmap_ediss.png\")"
   ]
  },
  {
   "cell_type": "code",
   "execution_count": null,
   "metadata": {},
   "outputs": [],
   "source": []
  }
 ],
 "metadata": {
  "kernelspec": {
   "display_name": "Python 3",
   "language": "python",
   "name": "python3"
  },
  "language_info": {
   "codemirror_mode": {
    "name": "ipython",
    "version": 3
   },
   "file_extension": ".py",
   "mimetype": "text/x-python",
   "name": "python",
   "nbconvert_exporter": "python",
   "pygments_lexer": "ipython3",
   "version": "3.8.3"
  }
 },
 "nbformat": 4,
 "nbformat_minor": 4
}
